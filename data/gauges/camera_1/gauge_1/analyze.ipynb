{
 "cells": [
  {
   "cell_type": "code",
   "execution_count": 9,
   "metadata": {
    "collapsed": true
   },
   "outputs": [],
   "source": [
    "import pandas as pd\n",
    "import numpy as np\n",
    "import matplotlib.pyplot as plt"
   ]
  },
  {
   "cell_type": "code",
   "execution_count": 10,
   "outputs": [],
   "source": [
    "# Importing the dataset\n",
    "dataset = pd.read_csv('test_report.csv')"
   ],
   "metadata": {
    "collapsed": false,
    "pycharm": {
     "name": "#%%\n"
    }
   }
  },
  {
   "cell_type": "markdown",
   "source": [],
   "metadata": {
    "collapsed": false
   }
  },
  {
   "cell_type": "code",
   "execution_count": 12,
   "outputs": [
    {
     "data": {
      "text/plain": "         angle  prediction\n0   -83.943875  -143.07042\n1    32.243473  -141.68628\n2    20.964819  -142.91084\n3   -89.417031  -156.11812\n4   -88.552928  -150.50975\n..         ...         ...\n59 -110.211487  -140.99365\n60  -62.326761  -141.53989\n61  106.580197  -141.09227\n62   70.840806  -142.75032\n63   18.623437  -143.09232\n\n[64 rows x 2 columns]",
      "text/html": "<div>\n<style scoped>\n    .dataframe tbody tr th:only-of-type {\n        vertical-align: middle;\n    }\n\n    .dataframe tbody tr th {\n        vertical-align: top;\n    }\n\n    .dataframe thead th {\n        text-align: right;\n    }\n</style>\n<table border=\"1\" class=\"dataframe\">\n  <thead>\n    <tr style=\"text-align: right;\">\n      <th></th>\n      <th>angle</th>\n      <th>prediction</th>\n    </tr>\n  </thead>\n  <tbody>\n    <tr>\n      <th>0</th>\n      <td>-83.943875</td>\n      <td>-143.07042</td>\n    </tr>\n    <tr>\n      <th>1</th>\n      <td>32.243473</td>\n      <td>-141.68628</td>\n    </tr>\n    <tr>\n      <th>2</th>\n      <td>20.964819</td>\n      <td>-142.91084</td>\n    </tr>\n    <tr>\n      <th>3</th>\n      <td>-89.417031</td>\n      <td>-156.11812</td>\n    </tr>\n    <tr>\n      <th>4</th>\n      <td>-88.552928</td>\n      <td>-150.50975</td>\n    </tr>\n    <tr>\n      <th>...</th>\n      <td>...</td>\n      <td>...</td>\n    </tr>\n    <tr>\n      <th>59</th>\n      <td>-110.211487</td>\n      <td>-140.99365</td>\n    </tr>\n    <tr>\n      <th>60</th>\n      <td>-62.326761</td>\n      <td>-141.53989</td>\n    </tr>\n    <tr>\n      <th>61</th>\n      <td>106.580197</td>\n      <td>-141.09227</td>\n    </tr>\n    <tr>\n      <th>62</th>\n      <td>70.840806</td>\n      <td>-142.75032</td>\n    </tr>\n    <tr>\n      <th>63</th>\n      <td>18.623437</td>\n      <td>-143.09232</td>\n    </tr>\n  </tbody>\n</table>\n<p>64 rows × 2 columns</p>\n</div>"
     },
     "execution_count": 12,
     "metadata": {},
     "output_type": "execute_result"
    }
   ],
   "source": [
    "dataset"
   ],
   "metadata": {
    "collapsed": false,
    "pycharm": {
     "name": "#%%\n"
    }
   }
  }
 ],
 "metadata": {
  "kernelspec": {
   "display_name": "Python 3",
   "language": "python",
   "name": "python3"
  },
  "language_info": {
   "codemirror_mode": {
    "name": "ipython",
    "version": 2
   },
   "file_extension": ".py",
   "mimetype": "text/x-python",
   "name": "python",
   "nbconvert_exporter": "python",
   "pygments_lexer": "ipython2",
   "version": "2.7.6"
  }
 },
 "nbformat": 4,
 "nbformat_minor": 0
}